{
 "cells": [
  {
   "cell_type": "markdown",
   "metadata": {
    "slideshow": {
     "slide_type": "slide"
    }
   },
   "source": [
    "# Facial Emotion Recognition - *face is the index of mind*"
   ]
  },
  {
   "cell_type": "markdown",
   "metadata": {
    "slideshow": {
     "slide_type": "fragment"
    }
   },
   "source": [
    "- Uses Deep Neural Nets to identify Facial Emotion.\n",
    "- Classifies into one of 8 Emotions based on Paul Ekman 6 universal emotions.  \n",
    " **| neutral | happiness | surprise | sadness | anger | disgust | fear | contempt |**\n",
    "- Kaggle Competition with human labeled dataset in 2013.\n",
    "- Microsoft researchers crowd sourced tags(labels) - FER+ Dataset."
   ]
  },
  {
   "cell_type": "markdown",
   "metadata": {
    "slideshow": {
     "slide_type": "skip"
    }
   },
   "source": [
    "- We are always judging each other sometimes just by looking at each other's face.\n",
    "- Paul Ekman American psychologist identified 6 emotions that are universal across different cultures and developed a coding mechanism FACS(Facial Action coding scheme)\n",
    "- Microsoft researchers relabeled the dataset using crowding sourcing, they applied different approaches such as majority-voting, multi-labeling, probablistic label drawing and cross-entropy loss.\n",
    "- Without going into the details of the paper, a few things to note "
   ]
  },
  {
   "cell_type": "markdown",
   "metadata": {
    "slideshow": {
     "slide_type": "slide"
    }
   },
   "source": [
    "## FER+\n",
    "- Used Convolutional Neural Nets and VGG13 as the DNN network.\n",
    "- Used Cross Entropy to measure the loss.\n",
    "- FER+ has new corrected labels\n",
    "- Preprocess the dataset by augmenting the images -  {crop faces, scale, shift, normalize, ..}"
   ]
  },
  {
   "cell_type": "markdown",
   "metadata": {
    "slideshow": {
     "slide_type": "skip"
    }
   },
   "source": [
    "## References\n",
    "- [FER from scratch using Apache MXNet](https://github.com/TalkAI/facial-emotion-recognition-gluon)\n",
    "- Training Deep Networks for Facial Expression Recognition with Crowd-Sourced Label Distribution https://arxiv.org/abs/1608.01041"
   ]
  },
  {
   "cell_type": "markdown",
   "metadata": {
    "slideshow": {
     "slide_type": "slide"
    }
   },
   "source": [
    "## Transfer Learning\n",
    "- Small Datasets - Overfitting\n",
    "- Start with a pre-trained model, instead of from scratch - **knowledge transfer**\n",
    "- Saves cost and time on labeling efforts."
   ]
  },
  {
   "cell_type": "markdown",
   "metadata": {
    "slideshow": {
     "slide_type": "slide"
    }
   },
   "source": [
    "## Import necessary libraries"
   ]
  },
  {
   "cell_type": "code",
   "execution_count": 1,
   "metadata": {
    "slideshow": {
     "slide_type": "fragment"
    }
   },
   "outputs": [],
   "source": [
    " import mxnet as mx\n",
    "import numpy as np\n",
    "import os, time, shutil\n",
    "import zipfile, os\n",
    "from gluoncv.utils import download\n",
    "\n",
    "from mxnet import gluon, image, init, nd\n",
    "from mxnet import autograd as ag\n",
    "from mxnet.gluon import nn\n",
    "from mxnet.gluon.data.vision import transforms\n",
    "from gluoncv.utils import makedirs"
   ]
  },
  {
   "cell_type": "code",
   "execution_count": 2,
   "metadata": {
    "slideshow": {
     "slide_type": "fragment"
    }
   },
   "outputs": [],
   "source": [
    "# Download the dataset\n",
    "data_url = 'https://s3.amazonaws.com/odsc-conf/data.zip'\n",
    "data_zip = download(data_url, path='./')\n",
    "with zipfile.ZipFile(data_zip, 'r') as zipped_data:\n",
    "    zipped_data.extractall(os.path.expanduser('./'))"
   ]
  },
  {
   "cell_type": "code",
   "execution_count": 3,
   "metadata": {
    "slideshow": {
     "slide_type": "fragment"
    }
   },
   "outputs": [],
   "source": [
    "processed_train_images = np.load('./data/fer_train_processed_images.npy')\n",
    "processed_train_labels = np.load('./data/fer_train_processed_labels.npy')\n",
    "processed_test_images = np.load('./data/fer_test_processed_images.npy')\n",
    "processed_test_labels = np.load('./data/fer_test_processed_labels.npy')\n",
    "processed_val_images = np.load('./data/fer_val_processed_images.npy')\n",
    "processed_val_labels = np.load('./data/fer_val_processed_labels.npy')\n",
    "\n",
    "train_labels = np.argmax(processed_train_labels, axis=1)\n",
    "val_labels = np.argmax(processed_val_labels, axis=1)\n",
    "test_labels = np.argmax(processed_test_labels, axis=1)"
   ]
  },
  {
   "cell_type": "markdown",
   "metadata": {
    "slideshow": {
     "slide_type": "slide"
    }
   },
   "source": [
    "# FER Data\n"
   ]
  },
  {
   "cell_type": "code",
   "execution_count": 4,
   "metadata": {
    "slideshow": {
     "slide_type": "fragment"
    }
   },
   "outputs": [
    {
     "name": "stdout",
     "output_type": "stream",
     "text": [
      "(25045, 1, 64, 64) (25045, 8)\n"
     ]
    }
   ],
   "source": [
    "print(processed_train_images.shape, processed_train_labels.shape) "
   ]
  },
  {
   "cell_type": "code",
   "execution_count": 5,
   "metadata": {
    "slideshow": {
     "slide_type": "fragment"
    }
   },
   "outputs": [],
   "source": [
    "emotions = {0: 'neutral', 1: 'happiness', 2: 'surprise',3: 'sadness',\n",
    "            4: 'anger', 5: 'disgust', 6: 'fear', 7: 'contempt'}"
   ]
  },
  {
   "cell_type": "code",
   "execution_count": 6,
   "metadata": {
    "slideshow": {
     "slide_type": "fragment"
    }
   },
   "outputs": [
    {
     "name": "stdout",
     "output_type": "stream",
     "text": [
      "[ 1.  0.  0.  0.  0.  0.  0.  0.]\n",
      "neutral\n"
     ]
    }
   ],
   "source": [
    "from matplotlib import pyplot as plt\n",
    "plt.imshow(processed_train_images[100].reshape(64,64), cmap='gray')\n",
    "print(processed_train_labels[100])\n",
    "print(emotions[np.argmax(processed_train_labels[100])])"
   ]
  },
  {
   "cell_type": "code",
   "execution_count": 7,
   "metadata": {
    "slideshow": {
     "slide_type": "slide"
    }
   },
   "outputs": [
    {
     "name": "stdout",
     "output_type": "stream",
     "text": [
      "num_cpu: 32, num_gpus: 4,\n",
      " ctx: [gpu(0), gpu(1), gpu(2), gpu(3)], batch_size:256\n"
     ]
    }
   ],
   "source": [
    "from multiprocessing import cpu_count\n",
    "\n",
    "CPU_COUNT = cpu_count()\n",
    "\n",
    "per_device_batch_size = 64\n",
    "\n",
    "num_gpu_range = mx.test_utils.list_gpus()\n",
    "\n",
    "ctx = [mx.gpu(i) for i in num_gpu_range] \\\n",
    "if num_gpu_range.stop > num_gpu_range.start else mx.cpu()\n",
    "\n",
    "batch_size = per_device_batch_size* max(num_gpu_range.stop, 1)\n",
    "\n",
    "\n",
    "print('num_cpu: {}, num_gpus: {},\\n ctx: {}, batch_size:{}'.format(CPU_COUNT, num_gpu_range.stop, ctx, batch_size))"
   ]
  },
  {
   "cell_type": "markdown",
   "metadata": {
    "slideshow": {
     "slide_type": "slide"
    }
   },
   "source": [
    "## Dataset, DataLoader and Transforms\n",
    "[Dataset](https://mxnet.incubator.apache.org/api/python/gluon/data.html#mxnet.gluon.data.Dataset) - used to represent collection of data, includes methods to load/parse data on disk.  \n",
    "[DataLoader](https://mxnet.incubator.apache.org/api/python/gluon/data.html#mxnet.gluon.data.DataLoader) - mini-batches of data from Dataset, iterator interface, can load data in parallel.  \n",
    "[Transforms](https://mxnet.incubator.apache.org/api/python/gluon/data.html#vision-transforms) - Transformations that can applied on data for augmentation, multiple transforms can composed to apply sequentially on the data. "
   ]
  },
  {
   "cell_type": "markdown",
   "metadata": {
    "slideshow": {
     "slide_type": "slide"
    }
   },
   "source": [
    "## Transforms "
   ]
  },
  {
   "cell_type": "markdown",
   "metadata": {
    "slideshow": {
     "slide_type": "fragment"
    }
   },
   "source": [
    "### 1. Gray scale to 3 Channel\n"
   ]
  },
  {
   "cell_type": "code",
   "execution_count": 8,
   "metadata": {
    "slideshow": {
     "slide_type": "fragment"
    }
   },
   "outputs": [],
   "source": [
    "gray_to_3channel = lambda x: nd.concat(nd.array(x), \\\n",
    "                        nd.array(x), nd.array(x), dim = 0)"
   ]
  },
  {
   "cell_type": "markdown",
   "metadata": {
    "slideshow": {
     "slide_type": "fragment"
    }
   },
   "source": [
    "### 2. Resize images from (64x64) to (224 x224)"
   ]
  },
  {
   "cell_type": "code",
   "execution_count": 9,
   "metadata": {
    "slideshow": {
     "slide_type": "fragment"
    }
   },
   "outputs": [],
   "source": [
    "center_pad = lambda x: nd.pad(nd.array(x).expand_dims(axis=0),\\\n",
    "      'constant',pad_width=(0, 0, 0, 0, 80,80, 80,80)). \\\n",
    "      squeeze().expand_dims(axis=0)"
   ]
  },
  {
   "cell_type": "markdown",
   "metadata": {
    "slideshow": {
     "slide_type": "fragment"
    }
   },
   "source": [
    "### 3. Compose a transformer"
   ]
  },
  {
   "cell_type": "code",
   "execution_count": 10,
   "metadata": {
    "slideshow": {
     "slide_type": "fragment"
    }
   },
   "outputs": [],
   "source": [
    "transformer = transforms.Compose([center_pad, gray_to_3channel])"
   ]
  },
  {
   "cell_type": "markdown",
   "metadata": {
    "slideshow": {
     "slide_type": "slide"
    }
   },
   "source": [
    "# DataLoader"
   ]
  },
  {
   "cell_type": "code",
   "execution_count": 11,
   "metadata": {
    "slideshow": {
     "slide_type": "fragment"
    }
   },
   "outputs": [],
   "source": [
    "train_data = gluon.data.DataLoader(gluon.data.ArrayDataset \\\n",
    "(processed_train_images, train_labels).transform_first(transformer),\n",
    "batch_size, shuffle=True, num_workers=CPU_COUNT)\n",
    "\n",
    "val_data = gluon.data.DataLoader(gluon.data.ArrayDataset \\\n",
    "(processed_val_images, val_labels).transform_first(transformer),\n",
    "batch_size, shuffle=True, num_workers=CPU_COUNT)\n",
    "\n",
    "test_data = gluon.data.DataLoader(gluon.data.ArrayDataset \\\n",
    "(processed_test_images, test_labels).transform_first(transformer),\n",
    "batch_size, shuffle=True, num_workers=CPU_COUNT, last_batch='discard')"
   ]
  },
  {
   "cell_type": "code",
   "execution_count": 12,
   "metadata": {
    "slideshow": {
     "slide_type": "fragment"
    }
   },
   "outputs": [
    {
     "name": "stdout",
     "output_type": "stream",
     "text": [
      "X_batch has shape (256, 3, 224, 224), and y_batch has shape (256,)\n"
     ]
    }
   ],
   "source": [
    "data_shape = None\n",
    "label_shape = None\n",
    "for X_batch, y_batch in train_data:\n",
    "    print(\"X_batch has shape {}, and y_batch has shape {}\".format(X_batch.shape, y_batch.shape))\n",
    "    data_shape = X_batch.shape\n",
    "    label_shape = y_batch.shape\n",
    "    break"
   ]
  },
  {
   "cell_type": "markdown",
   "metadata": {
    "slideshow": {
     "slide_type": "slide"
    }
   },
   "source": [
    "## Use Pretrained VGG13 model from GluonCV Model Zoo"
   ]
  },
  {
   "cell_type": "code",
   "execution_count": 13,
   "metadata": {
    "slideshow": {
     "slide_type": "fragment"
    }
   },
   "outputs": [
    {
     "name": "stdout",
     "output_type": "stream",
     "text": [
      "Model file is not found. Downloading.\n",
      "Downloading /home/ec2-user/.mxnet/models/vgg13-6bc5de58.zip from https://apache-mxnet.s3-accelerate.dualstack.amazonaws.com/gluon/models/vgg13-6bc5de58.zip...\n"
     ]
    },
    {
     "name": "stderr",
     "output_type": "stream",
     "text": [
      "483483KB [00:09, 50852.63KB/s]                            \n"
     ]
    }
   ],
   "source": [
    "model_name = 'vgg13'\n",
    "from gluoncv.model_zoo import get_model\n",
    "net = get_model(model_name, pretrained=True)"
   ]
  },
  {
   "cell_type": "code",
   "execution_count": 14,
   "metadata": {
    "slideshow": {
     "slide_type": "slide"
    }
   },
   "outputs": [
    {
     "data": {
      "text/plain": [
       "VGG(\n",
       "  (features): HybridSequential(\n",
       "    (0): Conv2D(3 -> 64, kernel_size=(3, 3), stride=(1, 1), padding=(1, 1))\n",
       "    (1): Activation(relu)\n",
       "    (2): Conv2D(64 -> 64, kernel_size=(3, 3), stride=(1, 1), padding=(1, 1))\n",
       "    (3): Activation(relu)\n",
       "    (4): MaxPool2D(size=(2, 2), stride=(2, 2), padding=(0, 0), ceil_mode=False)\n",
       "    (5): Conv2D(64 -> 128, kernel_size=(3, 3), stride=(1, 1), padding=(1, 1))\n",
       "    (6): Activation(relu)\n",
       "    (7): Conv2D(128 -> 128, kernel_size=(3, 3), stride=(1, 1), padding=(1, 1))\n",
       "    (8): Activation(relu)\n",
       "    (9): MaxPool2D(size=(2, 2), stride=(2, 2), padding=(0, 0), ceil_mode=False)\n",
       "    (10): Conv2D(128 -> 256, kernel_size=(3, 3), stride=(1, 1), padding=(1, 1))\n",
       "    (11): Activation(relu)\n",
       "    (12): Conv2D(256 -> 256, kernel_size=(3, 3), stride=(1, 1), padding=(1, 1))\n",
       "    (13): Activation(relu)\n",
       "    (14): MaxPool2D(size=(2, 2), stride=(2, 2), padding=(0, 0), ceil_mode=False)\n",
       "    (15): Conv2D(256 -> 512, kernel_size=(3, 3), stride=(1, 1), padding=(1, 1))\n",
       "    (16): Activation(relu)\n",
       "    (17): Conv2D(512 -> 512, kernel_size=(3, 3), stride=(1, 1), padding=(1, 1))\n",
       "    (18): Activation(relu)\n",
       "    (19): MaxPool2D(size=(2, 2), stride=(2, 2), padding=(0, 0), ceil_mode=False)\n",
       "    (20): Conv2D(512 -> 512, kernel_size=(3, 3), stride=(1, 1), padding=(1, 1))\n",
       "    (21): Activation(relu)\n",
       "    (22): Conv2D(512 -> 512, kernel_size=(3, 3), stride=(1, 1), padding=(1, 1))\n",
       "    (23): Activation(relu)\n",
       "    (24): MaxPool2D(size=(2, 2), stride=(2, 2), padding=(0, 0), ceil_mode=False)\n",
       "    (25): Dense(25088 -> 4096, Activation(relu))\n",
       "    (26): Dropout(p = 0.5, axes=())\n",
       "    (27): Dense(4096 -> 4096, Activation(relu))\n",
       "    (28): Dropout(p = 0.5, axes=())\n",
       "  )\n",
       "  (output): Dense(4096 -> 1000, linear)\n",
       ")"
      ]
     },
     "execution_count": 14,
     "metadata": {},
     "output_type": "execute_result"
    }
   ],
   "source": [
    "net"
   ]
  },
  {
   "cell_type": "markdown",
   "metadata": {
    "slideshow": {
     "slide_type": "slide"
    }
   },
   "source": [
    "### Change the number of classes in the output layer\n"
   ]
  },
  {
   "cell_type": "code",
   "execution_count": 15,
   "metadata": {
    "slideshow": {
     "slide_type": "fragment"
    }
   },
   "outputs": [],
   "source": [
    "classes = 8\n",
    "with net.name_scope():\n",
    "    net.output = nn.Dense(classes)"
   ]
  },
  {
   "cell_type": "markdown",
   "metadata": {
    "slideshow": {
     "slide_type": "fragment"
    }
   },
   "source": [
    "### Initialize the Parameters of the Output Layer(only) using Xavier"
   ]
  },
  {
   "cell_type": "code",
   "execution_count": 16,
   "metadata": {
    "slideshow": {
     "slide_type": "fragment"
    }
   },
   "outputs": [],
   "source": [
    "net.output.initialize(init.Xavier(), ctx = ctx)"
   ]
  },
  {
   "cell_type": "code",
   "execution_count": 17,
   "metadata": {
    "slideshow": {
     "slide_type": "fragment"
    }
   },
   "outputs": [],
   "source": [
    "# Re assign parameters to other contexts\n",
    "net.collect_params().reset_ctx(ctx)\n",
    "# Hybridize\n",
    "net.hybridize()"
   ]
  },
  {
   "cell_type": "markdown",
   "metadata": {
    "slideshow": {
     "slide_type": "slide"
    }
   },
   "source": [
    "## Verify the shapes "
   ]
  },
  {
   "cell_type": "code",
   "execution_count": 18,
   "metadata": {
    "scrolled": true,
    "slideshow": {
     "slide_type": "fragment"
    }
   },
   "outputs": [
    {
     "data": {
      "image/svg+xml": [
       "<?xml version=\"1.0\" encoding=\"UTF-8\" standalone=\"no\"?>\n",
       "<!DOCTYPE svg PUBLIC \"-//W3C//DTD SVG 1.1//EN\"\n",
       " \"http://www.w3.org/Graphics/SVG/1.1/DTD/svg11.dtd\">\n",
       "<!-- Generated by graphviz version 2.40.1 (20161225.0304)\n",
       " -->\n",
       "<!-- Title: plot Pages: 1 -->\n",
       "<svg width=\"152pt\" height=\"3554pt\"\n",
       " viewBox=\"0.00 0.00 152.17 3554.00\" xmlns=\"http://www.w3.org/2000/svg\" xmlns:xlink=\"http://www.w3.org/1999/xlink\">\n",
       "<g id=\"graph0\" class=\"graph\" transform=\"scale(1 1) rotate(0) translate(4 3550)\">\n",
       "<title>plot</title>\n",
       "<polygon fill=\"#ffffff\" stroke=\"transparent\" points=\"-4,4 -4,-3550 148.1712,-3550 148.1712,4 -4,4\"/>\n",
       "<!-- data -->\n",
       "<g id=\"node1\" class=\"node\">\n",
       "<title>data</title>\n",
       "<ellipse fill=\"#8dd3c7\" stroke=\"#000000\" cx=\"69.1712\" cy=\"-29\" rx=\"47\" ry=\"29\"/>\n",
       "<text text-anchor=\"middle\" x=\"69.1712\" y=\"-25.3\" font-family=\"Times,serif\" font-size=\"14.00\" fill=\"#000000\">data</text>\n",
       "</g>\n",
       "<!-- vgg0_conv0_fwd -->\n",
       "<g id=\"node2\" class=\"node\">\n",
       "<title>vgg0_conv0_fwd</title>\n",
       "<ellipse fill=\"#fb8072\" stroke=\"#000000\" cx=\"69.1712\" cy=\"-138\" rx=\"55.6878\" ry=\"29\"/>\n",
       "<text text-anchor=\"middle\" x=\"69.1712\" y=\"-141.8\" font-family=\"Times,serif\" font-size=\"14.00\" fill=\"#000000\">Convolution</text>\n",
       "<text text-anchor=\"middle\" x=\"69.1712\" y=\"-126.8\" font-family=\"Times,serif\" font-size=\"14.00\" fill=\"#000000\">3x3/1x1, 64</text>\n",
       "</g>\n",
       "<!-- vgg0_conv0_fwd&#45;&gt;data -->\n",
       "<g id=\"edge1\" class=\"edge\">\n",
       "<title>vgg0_conv0_fwd&#45;&gt;data</title>\n",
       "<path fill=\"none\" stroke=\"#000000\" d=\"M69.1712,-98.4838C69.1712,-85.2054 69.1712,-70.6405 69.1712,-58.2906\"/>\n",
       "<polygon fill=\"#000000\" stroke=\"#000000\" points=\"69.1712,-108.79 64.6713,-98.79 69.1712,-103.79 69.1713,-98.79 69.1713,-98.79 69.1713,-98.79 69.1712,-103.79 73.6713,-98.79 69.1712,-108.79 69.1712,-108.79\"/>\n",
       "<text text-anchor=\"middle\" x=\"99.6712\" y=\"-79.8\" font-family=\"Times,serif\" font-size=\"14.00\" fill=\"#000000\">3x224x224</text>\n",
       "</g>\n",
       "<!-- vgg0_relu0_fwd -->\n",
       "<g id=\"node3\" class=\"node\">\n",
       "<title>vgg0_relu0_fwd</title>\n",
       "<ellipse fill=\"#ffffb3\" stroke=\"#000000\" cx=\"69.1712\" cy=\"-247\" rx=\"48.9511\" ry=\"29\"/>\n",
       "<text text-anchor=\"middle\" x=\"69.1712\" y=\"-250.8\" font-family=\"Times,serif\" font-size=\"14.00\" fill=\"#000000\">Activation</text>\n",
       "<text text-anchor=\"middle\" x=\"69.1712\" y=\"-235.8\" font-family=\"Times,serif\" font-size=\"14.00\" fill=\"#000000\">relu</text>\n",
       "</g>\n",
       "<!-- vgg0_relu0_fwd&#45;&gt;vgg0_conv0_fwd -->\n",
       "<g id=\"edge2\" class=\"edge\">\n",
       "<title>vgg0_relu0_fwd&#45;&gt;vgg0_conv0_fwd</title>\n",
       "<path fill=\"none\" stroke=\"#000000\" d=\"M69.1712,-207.4838C69.1712,-194.2054 69.1712,-179.6405 69.1712,-167.2906\"/>\n",
       "<polygon fill=\"#000000\" stroke=\"#000000\" points=\"69.1712,-217.79 64.6713,-207.79 69.1712,-212.79 69.1713,-207.79 69.1713,-207.79 69.1713,-207.79 69.1712,-212.79 73.6713,-207.79 69.1712,-217.79 69.1712,-217.79\"/>\n",
       "<text text-anchor=\"middle\" x=\"103.1712\" y=\"-188.8\" font-family=\"Times,serif\" font-size=\"14.00\" fill=\"#000000\">64x224x224</text>\n",
       "</g>\n",
       "<!-- vgg0_conv1_fwd -->\n",
       "<g id=\"node4\" class=\"node\">\n",
       "<title>vgg0_conv1_fwd</title>\n",
       "<ellipse fill=\"#fb8072\" stroke=\"#000000\" cx=\"69.1712\" cy=\"-356\" rx=\"55.6878\" ry=\"29\"/>\n",
       "<text text-anchor=\"middle\" x=\"69.1712\" y=\"-359.8\" font-family=\"Times,serif\" font-size=\"14.00\" fill=\"#000000\">Convolution</text>\n",
       "<text text-anchor=\"middle\" x=\"69.1712\" y=\"-344.8\" font-family=\"Times,serif\" font-size=\"14.00\" fill=\"#000000\">3x3/1x1, 64</text>\n",
       "</g>\n",
       "<!-- vgg0_conv1_fwd&#45;&gt;vgg0_relu0_fwd -->\n",
       "<g id=\"edge3\" class=\"edge\">\n",
       "<title>vgg0_conv1_fwd&#45;&gt;vgg0_relu0_fwd</title>\n",
       "<path fill=\"none\" stroke=\"#000000\" d=\"M69.1712,-316.4838C69.1712,-303.2054 69.1712,-288.6405 69.1712,-276.2906\"/>\n",
       "<polygon fill=\"#000000\" stroke=\"#000000\" points=\"69.1712,-326.79 64.6713,-316.79 69.1712,-321.79 69.1713,-316.79 69.1713,-316.79 69.1713,-316.79 69.1712,-321.79 73.6713,-316.79 69.1712,-326.79 69.1712,-326.79\"/>\n",
       "<text text-anchor=\"middle\" x=\"103.1712\" y=\"-297.8\" font-family=\"Times,serif\" font-size=\"14.00\" fill=\"#000000\">64x224x224</text>\n",
       "</g>\n",
       "<!-- vgg0_relu1_fwd -->\n",
       "<g id=\"node5\" class=\"node\">\n",
       "<title>vgg0_relu1_fwd</title>\n",
       "<ellipse fill=\"#ffffb3\" stroke=\"#000000\" cx=\"69.1712\" cy=\"-465\" rx=\"48.9511\" ry=\"29\"/>\n",
       "<text text-anchor=\"middle\" x=\"69.1712\" y=\"-468.8\" font-family=\"Times,serif\" font-size=\"14.00\" fill=\"#000000\">Activation</text>\n",
       "<text text-anchor=\"middle\" x=\"69.1712\" y=\"-453.8\" font-family=\"Times,serif\" font-size=\"14.00\" fill=\"#000000\">relu</text>\n",
       "</g>\n",
       "<!-- vgg0_relu1_fwd&#45;&gt;vgg0_conv1_fwd -->\n",
       "<g id=\"edge4\" class=\"edge\">\n",
       "<title>vgg0_relu1_fwd&#45;&gt;vgg0_conv1_fwd</title>\n",
       "<path fill=\"none\" stroke=\"#000000\" d=\"M69.1712,-425.4838C69.1712,-412.2054 69.1712,-397.6405 69.1712,-385.2906\"/>\n",
       "<polygon fill=\"#000000\" stroke=\"#000000\" points=\"69.1712,-435.79 64.6713,-425.79 69.1712,-430.79 69.1713,-425.79 69.1713,-425.79 69.1713,-425.79 69.1712,-430.79 73.6713,-425.79 69.1712,-435.79 69.1712,-435.79\"/>\n",
       "<text text-anchor=\"middle\" x=\"103.1712\" y=\"-406.8\" font-family=\"Times,serif\" font-size=\"14.00\" fill=\"#000000\">64x224x224</text>\n",
       "</g>\n",
       "<!-- vgg0_pool0_fwd -->\n",
       "<g id=\"node6\" class=\"node\">\n",
       "<title>vgg0_pool0_fwd</title>\n",
       "<ellipse fill=\"#80b1d3\" stroke=\"#000000\" cx=\"69.1712\" cy=\"-574\" rx=\"60.7772\" ry=\"29\"/>\n",
       "<text text-anchor=\"middle\" x=\"69.1712\" y=\"-577.8\" font-family=\"Times,serif\" font-size=\"14.00\" fill=\"#000000\">Pooling</text>\n",
       "<text text-anchor=\"middle\" x=\"69.1712\" y=\"-562.8\" font-family=\"Times,serif\" font-size=\"14.00\" fill=\"#000000\">max, 2x2/2x2</text>\n",
       "</g>\n",
       "<!-- vgg0_pool0_fwd&#45;&gt;vgg0_relu1_fwd -->\n",
       "<g id=\"edge5\" class=\"edge\">\n",
       "<title>vgg0_pool0_fwd&#45;&gt;vgg0_relu1_fwd</title>\n",
       "<path fill=\"none\" stroke=\"#000000\" d=\"M69.1712,-534.4838C69.1712,-521.2054 69.1712,-506.6405 69.1712,-494.2906\"/>\n",
       "<polygon fill=\"#000000\" stroke=\"#000000\" points=\"69.1712,-544.79 64.6713,-534.79 69.1712,-539.79 69.1713,-534.79 69.1713,-534.79 69.1713,-534.79 69.1712,-539.79 73.6713,-534.79 69.1712,-544.79 69.1712,-544.79\"/>\n",
       "<text text-anchor=\"middle\" x=\"103.1712\" y=\"-515.8\" font-family=\"Times,serif\" font-size=\"14.00\" fill=\"#000000\">64x224x224</text>\n",
       "</g>\n",
       "<!-- vgg0_conv2_fwd -->\n",
       "<g id=\"node7\" class=\"node\">\n",
       "<title>vgg0_conv2_fwd</title>\n",
       "<ellipse fill=\"#fb8072\" stroke=\"#000000\" cx=\"69.1712\" cy=\"-683\" rx=\"58.8062\" ry=\"29\"/>\n",
       "<text text-anchor=\"middle\" x=\"69.1712\" y=\"-686.8\" font-family=\"Times,serif\" font-size=\"14.00\" fill=\"#000000\">Convolution</text>\n",
       "<text text-anchor=\"middle\" x=\"69.1712\" y=\"-671.8\" font-family=\"Times,serif\" font-size=\"14.00\" fill=\"#000000\">3x3/1x1, 128</text>\n",
       "</g>\n",
       "<!-- vgg0_conv2_fwd&#45;&gt;vgg0_pool0_fwd -->\n",
       "<g id=\"edge6\" class=\"edge\">\n",
       "<title>vgg0_conv2_fwd&#45;&gt;vgg0_pool0_fwd</title>\n",
       "<path fill=\"none\" stroke=\"#000000\" d=\"M69.1712,-643.4838C69.1712,-630.2054 69.1712,-615.6405 69.1712,-603.2906\"/>\n",
       "<polygon fill=\"#000000\" stroke=\"#000000\" points=\"69.1712,-653.79 64.6713,-643.79 69.1712,-648.79 69.1713,-643.79 69.1713,-643.79 69.1713,-643.79 69.1712,-648.79 73.6713,-643.79 69.1712,-653.79 69.1712,-653.79\"/>\n",
       "<text text-anchor=\"middle\" x=\"103.1712\" y=\"-624.8\" font-family=\"Times,serif\" font-size=\"14.00\" fill=\"#000000\">64x112x112</text>\n",
       "</g>\n",
       "<!-- vgg0_relu2_fwd -->\n",
       "<g id=\"node8\" class=\"node\">\n",
       "<title>vgg0_relu2_fwd</title>\n",
       "<ellipse fill=\"#ffffb3\" stroke=\"#000000\" cx=\"69.1712\" cy=\"-792\" rx=\"48.9511\" ry=\"29\"/>\n",
       "<text text-anchor=\"middle\" x=\"69.1712\" y=\"-795.8\" font-family=\"Times,serif\" font-size=\"14.00\" fill=\"#000000\">Activation</text>\n",
       "<text text-anchor=\"middle\" x=\"69.1712\" y=\"-780.8\" font-family=\"Times,serif\" font-size=\"14.00\" fill=\"#000000\">relu</text>\n",
       "</g>\n",
       "<!-- vgg0_relu2_fwd&#45;&gt;vgg0_conv2_fwd -->\n",
       "<g id=\"edge7\" class=\"edge\">\n",
       "<title>vgg0_relu2_fwd&#45;&gt;vgg0_conv2_fwd</title>\n",
       "<path fill=\"none\" stroke=\"#000000\" d=\"M69.1712,-752.4838C69.1712,-739.2054 69.1712,-724.6405 69.1712,-712.2906\"/>\n",
       "<polygon fill=\"#000000\" stroke=\"#000000\" points=\"69.1712,-762.79 64.6713,-752.79 69.1712,-757.79 69.1713,-752.79 69.1713,-752.79 69.1713,-752.79 69.1712,-757.79 73.6713,-752.79 69.1712,-762.79 69.1712,-762.79\"/>\n",
       "<text text-anchor=\"middle\" x=\"106.6712\" y=\"-733.8\" font-family=\"Times,serif\" font-size=\"14.00\" fill=\"#000000\">128x112x112</text>\n",
       "</g>\n",
       "<!-- vgg0_conv3_fwd -->\n",
       "<g id=\"node9\" class=\"node\">\n",
       "<title>vgg0_conv3_fwd</title>\n",
       "<ellipse fill=\"#fb8072\" stroke=\"#000000\" cx=\"69.1712\" cy=\"-901\" rx=\"58.8062\" ry=\"29\"/>\n",
       "<text text-anchor=\"middle\" x=\"69.1712\" y=\"-904.8\" font-family=\"Times,serif\" font-size=\"14.00\" fill=\"#000000\">Convolution</text>\n",
       "<text text-anchor=\"middle\" x=\"69.1712\" y=\"-889.8\" font-family=\"Times,serif\" font-size=\"14.00\" fill=\"#000000\">3x3/1x1, 128</text>\n",
       "</g>\n",
       "<!-- vgg0_conv3_fwd&#45;&gt;vgg0_relu2_fwd -->\n",
       "<g id=\"edge8\" class=\"edge\">\n",
       "<title>vgg0_conv3_fwd&#45;&gt;vgg0_relu2_fwd</title>\n",
       "<path fill=\"none\" stroke=\"#000000\" d=\"M69.1712,-861.4838C69.1712,-848.2054 69.1712,-833.6405 69.1712,-821.2906\"/>\n",
       "<polygon fill=\"#000000\" stroke=\"#000000\" points=\"69.1712,-871.79 64.6713,-861.79 69.1712,-866.79 69.1713,-861.79 69.1713,-861.79 69.1713,-861.79 69.1712,-866.79 73.6713,-861.79 69.1712,-871.79 69.1712,-871.79\"/>\n",
       "<text text-anchor=\"middle\" x=\"106.6712\" y=\"-842.8\" font-family=\"Times,serif\" font-size=\"14.00\" fill=\"#000000\">128x112x112</text>\n",
       "</g>\n",
       "<!-- vgg0_relu3_fwd -->\n",
       "<g id=\"node10\" class=\"node\">\n",
       "<title>vgg0_relu3_fwd</title>\n",
       "<ellipse fill=\"#ffffb3\" stroke=\"#000000\" cx=\"69.1712\" cy=\"-1010\" rx=\"48.9511\" ry=\"29\"/>\n",
       "<text text-anchor=\"middle\" x=\"69.1712\" y=\"-1013.8\" font-family=\"Times,serif\" font-size=\"14.00\" fill=\"#000000\">Activation</text>\n",
       "<text text-anchor=\"middle\" x=\"69.1712\" y=\"-998.8\" font-family=\"Times,serif\" font-size=\"14.00\" fill=\"#000000\">relu</text>\n",
       "</g>\n",
       "<!-- vgg0_relu3_fwd&#45;&gt;vgg0_conv3_fwd -->\n",
       "<g id=\"edge9\" class=\"edge\">\n",
       "<title>vgg0_relu3_fwd&#45;&gt;vgg0_conv3_fwd</title>\n",
       "<path fill=\"none\" stroke=\"#000000\" d=\"M69.1712,-970.4838C69.1712,-957.2054 69.1712,-942.6405 69.1712,-930.2906\"/>\n",
       "<polygon fill=\"#000000\" stroke=\"#000000\" points=\"69.1712,-980.79 64.6713,-970.79 69.1712,-975.79 69.1713,-970.79 69.1713,-970.79 69.1713,-970.79 69.1712,-975.79 73.6713,-970.79 69.1712,-980.79 69.1712,-980.79\"/>\n",
       "<text text-anchor=\"middle\" x=\"106.6712\" y=\"-951.8\" font-family=\"Times,serif\" font-size=\"14.00\" fill=\"#000000\">128x112x112</text>\n",
       "</g>\n",
       "<!-- vgg0_pool1_fwd -->\n",
       "<g id=\"node11\" class=\"node\">\n",
       "<title>vgg0_pool1_fwd</title>\n",
       "<ellipse fill=\"#80b1d3\" stroke=\"#000000\" cx=\"69.1712\" cy=\"-1119\" rx=\"60.7772\" ry=\"29\"/>\n",
       "<text text-anchor=\"middle\" x=\"69.1712\" y=\"-1122.8\" font-family=\"Times,serif\" font-size=\"14.00\" fill=\"#000000\">Pooling</text>\n",
       "<text text-anchor=\"middle\" x=\"69.1712\" y=\"-1107.8\" font-family=\"Times,serif\" font-size=\"14.00\" fill=\"#000000\">max, 2x2/2x2</text>\n",
       "</g>\n",
       "<!-- vgg0_pool1_fwd&#45;&gt;vgg0_relu3_fwd -->\n",
       "<g id=\"edge10\" class=\"edge\">\n",
       "<title>vgg0_pool1_fwd&#45;&gt;vgg0_relu3_fwd</title>\n",
       "<path fill=\"none\" stroke=\"#000000\" d=\"M69.1712,-1079.4838C69.1712,-1066.2054 69.1712,-1051.6405 69.1712,-1039.2906\"/>\n",
       "<polygon fill=\"#000000\" stroke=\"#000000\" points=\"69.1712,-1089.79 64.6713,-1079.79 69.1712,-1084.79 69.1713,-1079.79 69.1713,-1079.79 69.1713,-1079.79 69.1712,-1084.79 73.6713,-1079.79 69.1712,-1089.79 69.1712,-1089.79\"/>\n",
       "<text text-anchor=\"middle\" x=\"106.6712\" y=\"-1060.8\" font-family=\"Times,serif\" font-size=\"14.00\" fill=\"#000000\">128x112x112</text>\n",
       "</g>\n",
       "<!-- vgg0_conv4_fwd -->\n",
       "<g id=\"node12\" class=\"node\">\n",
       "<title>vgg0_conv4_fwd</title>\n",
       "<ellipse fill=\"#fb8072\" stroke=\"#000000\" cx=\"69.1712\" cy=\"-1228\" rx=\"58.8062\" ry=\"29\"/>\n",
       "<text text-anchor=\"middle\" x=\"69.1712\" y=\"-1231.8\" font-family=\"Times,serif\" font-size=\"14.00\" fill=\"#000000\">Convolution</text>\n",
       "<text text-anchor=\"middle\" x=\"69.1712\" y=\"-1216.8\" font-family=\"Times,serif\" font-size=\"14.00\" fill=\"#000000\">3x3/1x1, 256</text>\n",
       "</g>\n",
       "<!-- vgg0_conv4_fwd&#45;&gt;vgg0_pool1_fwd -->\n",
       "<g id=\"edge11\" class=\"edge\">\n",
       "<title>vgg0_conv4_fwd&#45;&gt;vgg0_pool1_fwd</title>\n",
       "<path fill=\"none\" stroke=\"#000000\" d=\"M69.1712,-1188.4838C69.1712,-1175.2054 69.1712,-1160.6405 69.1712,-1148.2906\"/>\n",
       "<polygon fill=\"#000000\" stroke=\"#000000\" points=\"69.1712,-1198.79 64.6713,-1188.79 69.1712,-1193.79 69.1713,-1188.79 69.1713,-1188.79 69.1713,-1188.79 69.1712,-1193.79 73.6713,-1188.79 69.1712,-1198.79 69.1712,-1198.79\"/>\n",
       "<text text-anchor=\"middle\" x=\"99.6712\" y=\"-1169.8\" font-family=\"Times,serif\" font-size=\"14.00\" fill=\"#000000\">128x56x56</text>\n",
       "</g>\n",
       "<!-- vgg0_relu4_fwd -->\n",
       "<g id=\"node13\" class=\"node\">\n",
       "<title>vgg0_relu4_fwd</title>\n",
       "<ellipse fill=\"#ffffb3\" stroke=\"#000000\" cx=\"69.1712\" cy=\"-1337\" rx=\"48.9511\" ry=\"29\"/>\n",
       "<text text-anchor=\"middle\" x=\"69.1712\" y=\"-1340.8\" font-family=\"Times,serif\" font-size=\"14.00\" fill=\"#000000\">Activation</text>\n",
       "<text text-anchor=\"middle\" x=\"69.1712\" y=\"-1325.8\" font-family=\"Times,serif\" font-size=\"14.00\" fill=\"#000000\">relu</text>\n",
       "</g>\n",
       "<!-- vgg0_relu4_fwd&#45;&gt;vgg0_conv4_fwd -->\n",
       "<g id=\"edge12\" class=\"edge\">\n",
       "<title>vgg0_relu4_fwd&#45;&gt;vgg0_conv4_fwd</title>\n",
       "<path fill=\"none\" stroke=\"#000000\" d=\"M69.1712,-1297.4838C69.1712,-1284.2054 69.1712,-1269.6405 69.1712,-1257.2906\"/>\n",
       "<polygon fill=\"#000000\" stroke=\"#000000\" points=\"69.1712,-1307.79 64.6713,-1297.79 69.1712,-1302.79 69.1713,-1297.79 69.1713,-1297.79 69.1713,-1297.79 69.1712,-1302.79 73.6713,-1297.79 69.1712,-1307.79 69.1712,-1307.79\"/>\n",
       "<text text-anchor=\"middle\" x=\"99.6712\" y=\"-1278.8\" font-family=\"Times,serif\" font-size=\"14.00\" fill=\"#000000\">256x56x56</text>\n",
       "</g>\n",
       "<!-- vgg0_conv5_fwd -->\n",
       "<g id=\"node14\" class=\"node\">\n",
       "<title>vgg0_conv5_fwd</title>\n",
       "<ellipse fill=\"#fb8072\" stroke=\"#000000\" cx=\"69.1712\" cy=\"-1446\" rx=\"58.8062\" ry=\"29\"/>\n",
       "<text text-anchor=\"middle\" x=\"69.1712\" y=\"-1449.8\" font-family=\"Times,serif\" font-size=\"14.00\" fill=\"#000000\">Convolution</text>\n",
       "<text text-anchor=\"middle\" x=\"69.1712\" y=\"-1434.8\" font-family=\"Times,serif\" font-size=\"14.00\" fill=\"#000000\">3x3/1x1, 256</text>\n",
       "</g>\n",
       "<!-- vgg0_conv5_fwd&#45;&gt;vgg0_relu4_fwd -->\n",
       "<g id=\"edge13\" class=\"edge\">\n",
       "<title>vgg0_conv5_fwd&#45;&gt;vgg0_relu4_fwd</title>\n",
       "<path fill=\"none\" stroke=\"#000000\" d=\"M69.1712,-1406.4838C69.1712,-1393.2054 69.1712,-1378.6405 69.1712,-1366.2906\"/>\n",
       "<polygon fill=\"#000000\" stroke=\"#000000\" points=\"69.1712,-1416.79 64.6713,-1406.79 69.1712,-1411.79 69.1713,-1406.79 69.1713,-1406.79 69.1713,-1406.79 69.1712,-1411.79 73.6713,-1406.79 69.1712,-1416.79 69.1712,-1416.79\"/>\n",
       "<text text-anchor=\"middle\" x=\"99.6712\" y=\"-1387.8\" font-family=\"Times,serif\" font-size=\"14.00\" fill=\"#000000\">256x56x56</text>\n",
       "</g>\n",
       "<!-- vgg0_relu5_fwd -->\n",
       "<g id=\"node15\" class=\"node\">\n",
       "<title>vgg0_relu5_fwd</title>\n",
       "<ellipse fill=\"#ffffb3\" stroke=\"#000000\" cx=\"69.1712\" cy=\"-1555\" rx=\"48.9511\" ry=\"29\"/>\n",
       "<text text-anchor=\"middle\" x=\"69.1712\" y=\"-1558.8\" font-family=\"Times,serif\" font-size=\"14.00\" fill=\"#000000\">Activation</text>\n",
       "<text text-anchor=\"middle\" x=\"69.1712\" y=\"-1543.8\" font-family=\"Times,serif\" font-size=\"14.00\" fill=\"#000000\">relu</text>\n",
       "</g>\n",
       "<!-- vgg0_relu5_fwd&#45;&gt;vgg0_conv5_fwd -->\n",
       "<g id=\"edge14\" class=\"edge\">\n",
       "<title>vgg0_relu5_fwd&#45;&gt;vgg0_conv5_fwd</title>\n",
       "<path fill=\"none\" stroke=\"#000000\" d=\"M69.1712,-1515.4838C69.1712,-1502.2054 69.1712,-1487.6405 69.1712,-1475.2906\"/>\n",
       "<polygon fill=\"#000000\" stroke=\"#000000\" points=\"69.1712,-1525.79 64.6713,-1515.79 69.1712,-1520.79 69.1713,-1515.79 69.1713,-1515.79 69.1713,-1515.79 69.1712,-1520.79 73.6713,-1515.79 69.1712,-1525.79 69.1712,-1525.79\"/>\n",
       "<text text-anchor=\"middle\" x=\"99.6712\" y=\"-1496.8\" font-family=\"Times,serif\" font-size=\"14.00\" fill=\"#000000\">256x56x56</text>\n",
       "</g>\n",
       "<!-- vgg0_pool2_fwd -->\n",
       "<g id=\"node16\" class=\"node\">\n",
       "<title>vgg0_pool2_fwd</title>\n",
       "<ellipse fill=\"#80b1d3\" stroke=\"#000000\" cx=\"69.1712\" cy=\"-1664\" rx=\"60.7772\" ry=\"29\"/>\n",
       "<text text-anchor=\"middle\" x=\"69.1712\" y=\"-1667.8\" font-family=\"Times,serif\" font-size=\"14.00\" fill=\"#000000\">Pooling</text>\n",
       "<text text-anchor=\"middle\" x=\"69.1712\" y=\"-1652.8\" font-family=\"Times,serif\" font-size=\"14.00\" fill=\"#000000\">max, 2x2/2x2</text>\n",
       "</g>\n",
       "<!-- vgg0_pool2_fwd&#45;&gt;vgg0_relu5_fwd -->\n",
       "<g id=\"edge15\" class=\"edge\">\n",
       "<title>vgg0_pool2_fwd&#45;&gt;vgg0_relu5_fwd</title>\n",
       "<path fill=\"none\" stroke=\"#000000\" d=\"M69.1712,-1624.4838C69.1712,-1611.2054 69.1712,-1596.6405 69.1712,-1584.2906\"/>\n",
       "<polygon fill=\"#000000\" stroke=\"#000000\" points=\"69.1712,-1634.79 64.6713,-1624.79 69.1712,-1629.79 69.1713,-1624.79 69.1713,-1624.79 69.1713,-1624.79 69.1712,-1629.79 73.6713,-1624.79 69.1712,-1634.79 69.1712,-1634.79\"/>\n",
       "<text text-anchor=\"middle\" x=\"99.6712\" y=\"-1605.8\" font-family=\"Times,serif\" font-size=\"14.00\" fill=\"#000000\">256x56x56</text>\n",
       "</g>\n",
       "<!-- vgg0_conv6_fwd -->\n",
       "<g id=\"node17\" class=\"node\">\n",
       "<title>vgg0_conv6_fwd</title>\n",
       "<ellipse fill=\"#fb8072\" stroke=\"#000000\" cx=\"69.1712\" cy=\"-1773\" rx=\"58.8062\" ry=\"29\"/>\n",
       "<text text-anchor=\"middle\" x=\"69.1712\" y=\"-1776.8\" font-family=\"Times,serif\" font-size=\"14.00\" fill=\"#000000\">Convolution</text>\n",
       "<text text-anchor=\"middle\" x=\"69.1712\" y=\"-1761.8\" font-family=\"Times,serif\" font-size=\"14.00\" fill=\"#000000\">3x3/1x1, 512</text>\n",
       "</g>\n",
       "<!-- vgg0_conv6_fwd&#45;&gt;vgg0_pool2_fwd -->\n",
       "<g id=\"edge16\" class=\"edge\">\n",
       "<title>vgg0_conv6_fwd&#45;&gt;vgg0_pool2_fwd</title>\n",
       "<path fill=\"none\" stroke=\"#000000\" d=\"M69.1712,-1733.4838C69.1712,-1720.2054 69.1712,-1705.6405 69.1712,-1693.2906\"/>\n",
       "<polygon fill=\"#000000\" stroke=\"#000000\" points=\"69.1712,-1743.79 64.6713,-1733.79 69.1712,-1738.79 69.1713,-1733.79 69.1713,-1733.79 69.1713,-1733.79 69.1712,-1738.79 73.6713,-1733.79 69.1712,-1743.79 69.1712,-1743.79\"/>\n",
       "<text text-anchor=\"middle\" x=\"99.6712\" y=\"-1714.8\" font-family=\"Times,serif\" font-size=\"14.00\" fill=\"#000000\">256x28x28</text>\n",
       "</g>\n",
       "<!-- vgg0_relu6_fwd -->\n",
       "<g id=\"node18\" class=\"node\">\n",
       "<title>vgg0_relu6_fwd</title>\n",
       "<ellipse fill=\"#ffffb3\" stroke=\"#000000\" cx=\"69.1712\" cy=\"-1882\" rx=\"48.9511\" ry=\"29\"/>\n",
       "<text text-anchor=\"middle\" x=\"69.1712\" y=\"-1885.8\" font-family=\"Times,serif\" font-size=\"14.00\" fill=\"#000000\">Activation</text>\n",
       "<text text-anchor=\"middle\" x=\"69.1712\" y=\"-1870.8\" font-family=\"Times,serif\" font-size=\"14.00\" fill=\"#000000\">relu</text>\n",
       "</g>\n",
       "<!-- vgg0_relu6_fwd&#45;&gt;vgg0_conv6_fwd -->\n",
       "<g id=\"edge17\" class=\"edge\">\n",
       "<title>vgg0_relu6_fwd&#45;&gt;vgg0_conv6_fwd</title>\n",
       "<path fill=\"none\" stroke=\"#000000\" d=\"M69.1712,-1842.4838C69.1712,-1829.2054 69.1712,-1814.6405 69.1712,-1802.2906\"/>\n",
       "<polygon fill=\"#000000\" stroke=\"#000000\" points=\"69.1712,-1852.79 64.6713,-1842.79 69.1712,-1847.79 69.1713,-1842.79 69.1713,-1842.79 69.1713,-1842.79 69.1712,-1847.79 73.6713,-1842.79 69.1712,-1852.79 69.1712,-1852.79\"/>\n",
       "<text text-anchor=\"middle\" x=\"99.6712\" y=\"-1823.8\" font-family=\"Times,serif\" font-size=\"14.00\" fill=\"#000000\">512x28x28</text>\n",
       "</g>\n",
       "<!-- vgg0_conv7_fwd -->\n",
       "<g id=\"node19\" class=\"node\">\n",
       "<title>vgg0_conv7_fwd</title>\n",
       "<ellipse fill=\"#fb8072\" stroke=\"#000000\" cx=\"69.1712\" cy=\"-1991\" rx=\"58.8062\" ry=\"29\"/>\n",
       "<text text-anchor=\"middle\" x=\"69.1712\" y=\"-1994.8\" font-family=\"Times,serif\" font-size=\"14.00\" fill=\"#000000\">Convolution</text>\n",
       "<text text-anchor=\"middle\" x=\"69.1712\" y=\"-1979.8\" font-family=\"Times,serif\" font-size=\"14.00\" fill=\"#000000\">3x3/1x1, 512</text>\n",
       "</g>\n",
       "<!-- vgg0_conv7_fwd&#45;&gt;vgg0_relu6_fwd -->\n",
       "<g id=\"edge18\" class=\"edge\">\n",
       "<title>vgg0_conv7_fwd&#45;&gt;vgg0_relu6_fwd</title>\n",
       "<path fill=\"none\" stroke=\"#000000\" d=\"M69.1712,-1951.4838C69.1712,-1938.2054 69.1712,-1923.6405 69.1712,-1911.2906\"/>\n",
       "<polygon fill=\"#000000\" stroke=\"#000000\" points=\"69.1712,-1961.79 64.6713,-1951.79 69.1712,-1956.79 69.1713,-1951.79 69.1713,-1951.79 69.1713,-1951.79 69.1712,-1956.79 73.6713,-1951.79 69.1712,-1961.79 69.1712,-1961.79\"/>\n",
       "<text text-anchor=\"middle\" x=\"99.6712\" y=\"-1932.8\" font-family=\"Times,serif\" font-size=\"14.00\" fill=\"#000000\">512x28x28</text>\n",
       "</g>\n",
       "<!-- vgg0_relu7_fwd -->\n",
       "<g id=\"node20\" class=\"node\">\n",
       "<title>vgg0_relu7_fwd</title>\n",
       "<ellipse fill=\"#ffffb3\" stroke=\"#000000\" cx=\"69.1712\" cy=\"-2100\" rx=\"48.9511\" ry=\"29\"/>\n",
       "<text text-anchor=\"middle\" x=\"69.1712\" y=\"-2103.8\" font-family=\"Times,serif\" font-size=\"14.00\" fill=\"#000000\">Activation</text>\n",
       "<text text-anchor=\"middle\" x=\"69.1712\" y=\"-2088.8\" font-family=\"Times,serif\" font-size=\"14.00\" fill=\"#000000\">relu</text>\n",
       "</g>\n",
       "<!-- vgg0_relu7_fwd&#45;&gt;vgg0_conv7_fwd -->\n",
       "<g id=\"edge19\" class=\"edge\">\n",
       "<title>vgg0_relu7_fwd&#45;&gt;vgg0_conv7_fwd</title>\n",
       "<path fill=\"none\" stroke=\"#000000\" d=\"M69.1712,-2060.4838C69.1712,-2047.2054 69.1712,-2032.6405 69.1712,-2020.2906\"/>\n",
       "<polygon fill=\"#000000\" stroke=\"#000000\" points=\"69.1712,-2070.79 64.6713,-2060.79 69.1712,-2065.79 69.1713,-2060.79 69.1713,-2060.79 69.1713,-2060.79 69.1712,-2065.79 73.6713,-2060.79 69.1712,-2070.79 69.1712,-2070.79\"/>\n",
       "<text text-anchor=\"middle\" x=\"99.6712\" y=\"-2041.8\" font-family=\"Times,serif\" font-size=\"14.00\" fill=\"#000000\">512x28x28</text>\n",
       "</g>\n",
       "<!-- vgg0_pool3_fwd -->\n",
       "<g id=\"node21\" class=\"node\">\n",
       "<title>vgg0_pool3_fwd</title>\n",
       "<ellipse fill=\"#80b1d3\" stroke=\"#000000\" cx=\"69.1712\" cy=\"-2209\" rx=\"60.7772\" ry=\"29\"/>\n",
       "<text text-anchor=\"middle\" x=\"69.1712\" y=\"-2212.8\" font-family=\"Times,serif\" font-size=\"14.00\" fill=\"#000000\">Pooling</text>\n",
       "<text text-anchor=\"middle\" x=\"69.1712\" y=\"-2197.8\" font-family=\"Times,serif\" font-size=\"14.00\" fill=\"#000000\">max, 2x2/2x2</text>\n",
       "</g>\n",
       "<!-- vgg0_pool3_fwd&#45;&gt;vgg0_relu7_fwd -->\n",
       "<g id=\"edge20\" class=\"edge\">\n",
       "<title>vgg0_pool3_fwd&#45;&gt;vgg0_relu7_fwd</title>\n",
       "<path fill=\"none\" stroke=\"#000000\" d=\"M69.1712,-2169.4838C69.1712,-2156.2054 69.1712,-2141.6405 69.1712,-2129.2906\"/>\n",
       "<polygon fill=\"#000000\" stroke=\"#000000\" points=\"69.1712,-2179.79 64.6713,-2169.79 69.1712,-2174.79 69.1713,-2169.79 69.1713,-2169.79 69.1713,-2169.79 69.1712,-2174.79 73.6713,-2169.79 69.1712,-2179.79 69.1712,-2179.79\"/>\n",
       "<text text-anchor=\"middle\" x=\"99.6712\" y=\"-2150.8\" font-family=\"Times,serif\" font-size=\"14.00\" fill=\"#000000\">512x28x28</text>\n",
       "</g>\n",
       "<!-- vgg0_conv8_fwd -->\n",
       "<g id=\"node22\" class=\"node\">\n",
       "<title>vgg0_conv8_fwd</title>\n",
       "<ellipse fill=\"#fb8072\" stroke=\"#000000\" cx=\"69.1712\" cy=\"-2318\" rx=\"58.8062\" ry=\"29\"/>\n",
       "<text text-anchor=\"middle\" x=\"69.1712\" y=\"-2321.8\" font-family=\"Times,serif\" font-size=\"14.00\" fill=\"#000000\">Convolution</text>\n",
       "<text text-anchor=\"middle\" x=\"69.1712\" y=\"-2306.8\" font-family=\"Times,serif\" font-size=\"14.00\" fill=\"#000000\">3x3/1x1, 512</text>\n",
       "</g>\n",
       "<!-- vgg0_conv8_fwd&#45;&gt;vgg0_pool3_fwd -->\n",
       "<g id=\"edge21\" class=\"edge\">\n",
       "<title>vgg0_conv8_fwd&#45;&gt;vgg0_pool3_fwd</title>\n",
       "<path fill=\"none\" stroke=\"#000000\" d=\"M69.1712,-2278.4838C69.1712,-2265.2054 69.1712,-2250.6405 69.1712,-2238.2906\"/>\n",
       "<polygon fill=\"#000000\" stroke=\"#000000\" points=\"69.1712,-2288.79 64.6713,-2278.79 69.1712,-2283.79 69.1713,-2278.79 69.1713,-2278.79 69.1713,-2278.79 69.1712,-2283.79 73.6713,-2278.79 69.1712,-2288.79 69.1712,-2288.79\"/>\n",
       "<text text-anchor=\"middle\" x=\"99.6712\" y=\"-2259.8\" font-family=\"Times,serif\" font-size=\"14.00\" fill=\"#000000\">512x14x14</text>\n",
       "</g>\n",
       "<!-- vgg0_relu8_fwd -->\n",
       "<g id=\"node23\" class=\"node\">\n",
       "<title>vgg0_relu8_fwd</title>\n",
       "<ellipse fill=\"#ffffb3\" stroke=\"#000000\" cx=\"69.1712\" cy=\"-2427\" rx=\"48.9511\" ry=\"29\"/>\n",
       "<text text-anchor=\"middle\" x=\"69.1712\" y=\"-2430.8\" font-family=\"Times,serif\" font-size=\"14.00\" fill=\"#000000\">Activation</text>\n",
       "<text text-anchor=\"middle\" x=\"69.1712\" y=\"-2415.8\" font-family=\"Times,serif\" font-size=\"14.00\" fill=\"#000000\">relu</text>\n",
       "</g>\n",
       "<!-- vgg0_relu8_fwd&#45;&gt;vgg0_conv8_fwd -->\n",
       "<g id=\"edge22\" class=\"edge\">\n",
       "<title>vgg0_relu8_fwd&#45;&gt;vgg0_conv8_fwd</title>\n",
       "<path fill=\"none\" stroke=\"#000000\" d=\"M69.1712,-2387.4838C69.1712,-2374.2054 69.1712,-2359.6405 69.1712,-2347.2906\"/>\n",
       "<polygon fill=\"#000000\" stroke=\"#000000\" points=\"69.1712,-2397.79 64.6713,-2387.79 69.1712,-2392.79 69.1713,-2387.79 69.1713,-2387.79 69.1713,-2387.79 69.1712,-2392.79 73.6713,-2387.79 69.1712,-2397.79 69.1712,-2397.79\"/>\n",
       "<text text-anchor=\"middle\" x=\"99.6712\" y=\"-2368.8\" font-family=\"Times,serif\" font-size=\"14.00\" fill=\"#000000\">512x14x14</text>\n",
       "</g>\n",
       "<!-- vgg0_conv9_fwd -->\n",
       "<g id=\"node24\" class=\"node\">\n",
       "<title>vgg0_conv9_fwd</title>\n",
       "<ellipse fill=\"#fb8072\" stroke=\"#000000\" cx=\"69.1712\" cy=\"-2536\" rx=\"58.8062\" ry=\"29\"/>\n",
       "<text text-anchor=\"middle\" x=\"69.1712\" y=\"-2539.8\" font-family=\"Times,serif\" font-size=\"14.00\" fill=\"#000000\">Convolution</text>\n",
       "<text text-anchor=\"middle\" x=\"69.1712\" y=\"-2524.8\" font-family=\"Times,serif\" font-size=\"14.00\" fill=\"#000000\">3x3/1x1, 512</text>\n",
       "</g>\n",
       "<!-- vgg0_conv9_fwd&#45;&gt;vgg0_relu8_fwd -->\n",
       "<g id=\"edge23\" class=\"edge\">\n",
       "<title>vgg0_conv9_fwd&#45;&gt;vgg0_relu8_fwd</title>\n",
       "<path fill=\"none\" stroke=\"#000000\" d=\"M69.1712,-2496.4838C69.1712,-2483.2054 69.1712,-2468.6405 69.1712,-2456.2906\"/>\n",
       "<polygon fill=\"#000000\" stroke=\"#000000\" points=\"69.1712,-2506.79 64.6713,-2496.79 69.1712,-2501.79 69.1713,-2496.79 69.1713,-2496.79 69.1713,-2496.79 69.1712,-2501.79 73.6713,-2496.79 69.1712,-2506.79 69.1712,-2506.79\"/>\n",
       "<text text-anchor=\"middle\" x=\"99.6712\" y=\"-2477.8\" font-family=\"Times,serif\" font-size=\"14.00\" fill=\"#000000\">512x14x14</text>\n",
       "</g>\n",
       "<!-- vgg0_relu9_fwd -->\n",
       "<g id=\"node25\" class=\"node\">\n",
       "<title>vgg0_relu9_fwd</title>\n",
       "<ellipse fill=\"#ffffb3\" stroke=\"#000000\" cx=\"69.1712\" cy=\"-2645\" rx=\"48.9511\" ry=\"29\"/>\n",
       "<text text-anchor=\"middle\" x=\"69.1712\" y=\"-2648.8\" font-family=\"Times,serif\" font-size=\"14.00\" fill=\"#000000\">Activation</text>\n",
       "<text text-anchor=\"middle\" x=\"69.1712\" y=\"-2633.8\" font-family=\"Times,serif\" font-size=\"14.00\" fill=\"#000000\">relu</text>\n",
       "</g>\n",
       "<!-- vgg0_relu9_fwd&#45;&gt;vgg0_conv9_fwd -->\n",
       "<g id=\"edge24\" class=\"edge\">\n",
       "<title>vgg0_relu9_fwd&#45;&gt;vgg0_conv9_fwd</title>\n",
       "<path fill=\"none\" stroke=\"#000000\" d=\"M69.1712,-2605.4838C69.1712,-2592.2054 69.1712,-2577.6405 69.1712,-2565.2906\"/>\n",
       "<polygon fill=\"#000000\" stroke=\"#000000\" points=\"69.1712,-2615.79 64.6713,-2605.79 69.1712,-2610.79 69.1713,-2605.79 69.1713,-2605.79 69.1713,-2605.79 69.1712,-2610.79 73.6713,-2605.79 69.1712,-2615.79 69.1712,-2615.79\"/>\n",
       "<text text-anchor=\"middle\" x=\"99.6712\" y=\"-2586.8\" font-family=\"Times,serif\" font-size=\"14.00\" fill=\"#000000\">512x14x14</text>\n",
       "</g>\n",
       "<!-- vgg0_pool4_fwd -->\n",
       "<g id=\"node26\" class=\"node\">\n",
       "<title>vgg0_pool4_fwd</title>\n",
       "<ellipse fill=\"#80b1d3\" stroke=\"#000000\" cx=\"69.1712\" cy=\"-2754\" rx=\"60.7772\" ry=\"29\"/>\n",
       "<text text-anchor=\"middle\" x=\"69.1712\" y=\"-2757.8\" font-family=\"Times,serif\" font-size=\"14.00\" fill=\"#000000\">Pooling</text>\n",
       "<text text-anchor=\"middle\" x=\"69.1712\" y=\"-2742.8\" font-family=\"Times,serif\" font-size=\"14.00\" fill=\"#000000\">max, 2x2/2x2</text>\n",
       "</g>\n",
       "<!-- vgg0_pool4_fwd&#45;&gt;vgg0_relu9_fwd -->\n",
       "<g id=\"edge25\" class=\"edge\">\n",
       "<title>vgg0_pool4_fwd&#45;&gt;vgg0_relu9_fwd</title>\n",
       "<path fill=\"none\" stroke=\"#000000\" d=\"M69.1712,-2714.4838C69.1712,-2701.2054 69.1712,-2686.6405 69.1712,-2674.2906\"/>\n",
       "<polygon fill=\"#000000\" stroke=\"#000000\" points=\"69.1712,-2724.79 64.6713,-2714.79 69.1712,-2719.79 69.1713,-2714.79 69.1713,-2714.79 69.1713,-2714.79 69.1712,-2719.79 73.6713,-2714.79 69.1712,-2724.79 69.1712,-2724.79\"/>\n",
       "<text text-anchor=\"middle\" x=\"99.6712\" y=\"-2695.8\" font-family=\"Times,serif\" font-size=\"14.00\" fill=\"#000000\">512x14x14</text>\n",
       "</g>\n",
       "<!-- vgg0_dense0_fwd -->\n",
       "<g id=\"node27\" class=\"node\">\n",
       "<title>vgg0_dense0_fwd</title>\n",
       "<ellipse fill=\"#fb8072\" stroke=\"#000000\" cx=\"69.1712\" cy=\"-2863\" rx=\"68.3377\" ry=\"29\"/>\n",
       "<text text-anchor=\"middle\" x=\"69.1712\" y=\"-2866.8\" font-family=\"Times,serif\" font-size=\"14.00\" fill=\"#000000\">FullyConnected</text>\n",
       "<text text-anchor=\"middle\" x=\"69.1712\" y=\"-2851.8\" font-family=\"Times,serif\" font-size=\"14.00\" fill=\"#000000\">4096</text>\n",
       "</g>\n",
       "<!-- vgg0_dense0_fwd&#45;&gt;vgg0_pool4_fwd -->\n",
       "<g id=\"edge26\" class=\"edge\">\n",
       "<title>vgg0_dense0_fwd&#45;&gt;vgg0_pool4_fwd</title>\n",
       "<path fill=\"none\" stroke=\"#000000\" d=\"M69.1712,-2823.4838C69.1712,-2810.2054 69.1712,-2795.6405 69.1712,-2783.2906\"/>\n",
       "<polygon fill=\"#000000\" stroke=\"#000000\" points=\"69.1712,-2833.79 64.6713,-2823.79 69.1712,-2828.79 69.1713,-2823.79 69.1713,-2823.79 69.1713,-2823.79 69.1712,-2828.79 73.6713,-2823.79 69.1712,-2833.79 69.1712,-2833.79\"/>\n",
       "<text text-anchor=\"middle\" x=\"93.1712\" y=\"-2804.8\" font-family=\"Times,serif\" font-size=\"14.00\" fill=\"#000000\">512x7x7</text>\n",
       "</g>\n",
       "<!-- vgg0_dense0_relu_fwd -->\n",
       "<g id=\"node28\" class=\"node\">\n",
       "<title>vgg0_dense0_relu_fwd</title>\n",
       "<ellipse fill=\"#ffffb3\" stroke=\"#000000\" cx=\"69.1712\" cy=\"-2972\" rx=\"48.9511\" ry=\"29\"/>\n",
       "<text text-anchor=\"middle\" x=\"69.1712\" y=\"-2975.8\" font-family=\"Times,serif\" font-size=\"14.00\" fill=\"#000000\">Activation</text>\n",
       "<text text-anchor=\"middle\" x=\"69.1712\" y=\"-2960.8\" font-family=\"Times,serif\" font-size=\"14.00\" fill=\"#000000\">relu</text>\n",
       "</g>\n",
       "<!-- vgg0_dense0_relu_fwd&#45;&gt;vgg0_dense0_fwd -->\n",
       "<g id=\"edge27\" class=\"edge\">\n",
       "<title>vgg0_dense0_relu_fwd&#45;&gt;vgg0_dense0_fwd</title>\n",
       "<path fill=\"none\" stroke=\"#000000\" d=\"M69.1712,-2932.4838C69.1712,-2919.2054 69.1712,-2904.6405 69.1712,-2892.2906\"/>\n",
       "<polygon fill=\"#000000\" stroke=\"#000000\" points=\"69.1712,-2942.79 64.6713,-2932.79 69.1712,-2937.79 69.1713,-2932.79 69.1713,-2932.79 69.1713,-2932.79 69.1712,-2937.79 73.6713,-2932.79 69.1712,-2942.79 69.1712,-2942.79\"/>\n",
       "<text text-anchor=\"middle\" x=\"83.1712\" y=\"-2913.8\" font-family=\"Times,serif\" font-size=\"14.00\" fill=\"#000000\">4096</text>\n",
       "</g>\n",
       "<!-- vgg0_dropout0_fwd -->\n",
       "<g id=\"node29\" class=\"node\">\n",
       "<title>vgg0_dropout0_fwd</title>\n",
       "<ellipse fill=\"#fccde5\" stroke=\"#000000\" cx=\"69.1712\" cy=\"-3081\" rx=\"69.3428\" ry=\"29\"/>\n",
       "<text text-anchor=\"middle\" x=\"69.1712\" y=\"-3077.3\" font-family=\"Times,serif\" font-size=\"14.00\" fill=\"#000000\">vgg0_dropout0_fwd</text>\n",
       "</g>\n",
       "<!-- vgg0_dropout0_fwd&#45;&gt;vgg0_dense0_relu_fwd -->\n",
       "<g id=\"edge28\" class=\"edge\">\n",
       "<title>vgg0_dropout0_fwd&#45;&gt;vgg0_dense0_relu_fwd</title>\n",
       "<path fill=\"none\" stroke=\"#000000\" d=\"M69.1712,-3041.4838C69.1712,-3028.2054 69.1712,-3013.6405 69.1712,-3001.2906\"/>\n",
       "<polygon fill=\"#000000\" stroke=\"#000000\" points=\"69.1712,-3051.79 64.6713,-3041.79 69.1712,-3046.79 69.1713,-3041.79 69.1713,-3041.79 69.1713,-3041.79 69.1712,-3046.79 73.6713,-3041.79 69.1712,-3051.79 69.1712,-3051.79\"/>\n",
       "<text text-anchor=\"middle\" x=\"83.1712\" y=\"-3022.8\" font-family=\"Times,serif\" font-size=\"14.00\" fill=\"#000000\">4096</text>\n",
       "</g>\n",
       "<!-- vgg0_dense1_fwd -->\n",
       "<g id=\"node30\" class=\"node\">\n",
       "<title>vgg0_dense1_fwd</title>\n",
       "<ellipse fill=\"#fb8072\" stroke=\"#000000\" cx=\"69.1712\" cy=\"-3190\" rx=\"68.3377\" ry=\"29\"/>\n",
       "<text text-anchor=\"middle\" x=\"69.1712\" y=\"-3193.8\" font-family=\"Times,serif\" font-size=\"14.00\" fill=\"#000000\">FullyConnected</text>\n",
       "<text text-anchor=\"middle\" x=\"69.1712\" y=\"-3178.8\" font-family=\"Times,serif\" font-size=\"14.00\" fill=\"#000000\">4096</text>\n",
       "</g>\n",
       "<!-- vgg0_dense1_fwd&#45;&gt;vgg0_dropout0_fwd -->\n",
       "<g id=\"edge29\" class=\"edge\">\n",
       "<title>vgg0_dense1_fwd&#45;&gt;vgg0_dropout0_fwd</title>\n",
       "<path fill=\"none\" stroke=\"#000000\" d=\"M69.1712,-3150.4838C69.1712,-3137.2054 69.1712,-3122.6405 69.1712,-3110.2906\"/>\n",
       "<polygon fill=\"#000000\" stroke=\"#000000\" points=\"69.1712,-3160.79 64.6713,-3150.79 69.1712,-3155.79 69.1713,-3150.79 69.1713,-3150.79 69.1713,-3150.79 69.1712,-3155.79 73.6713,-3150.79 69.1712,-3160.79 69.1712,-3160.79\"/>\n",
       "<text text-anchor=\"middle\" x=\"83.1712\" y=\"-3131.8\" font-family=\"Times,serif\" font-size=\"14.00\" fill=\"#000000\">4096</text>\n",
       "</g>\n",
       "<!-- vgg0_dense1_relu_fwd -->\n",
       "<g id=\"node31\" class=\"node\">\n",
       "<title>vgg0_dense1_relu_fwd</title>\n",
       "<ellipse fill=\"#ffffb3\" stroke=\"#000000\" cx=\"69.1712\" cy=\"-3299\" rx=\"48.9511\" ry=\"29\"/>\n",
       "<text text-anchor=\"middle\" x=\"69.1712\" y=\"-3302.8\" font-family=\"Times,serif\" font-size=\"14.00\" fill=\"#000000\">Activation</text>\n",
       "<text text-anchor=\"middle\" x=\"69.1712\" y=\"-3287.8\" font-family=\"Times,serif\" font-size=\"14.00\" fill=\"#000000\">relu</text>\n",
       "</g>\n",
       "<!-- vgg0_dense1_relu_fwd&#45;&gt;vgg0_dense1_fwd -->\n",
       "<g id=\"edge30\" class=\"edge\">\n",
       "<title>vgg0_dense1_relu_fwd&#45;&gt;vgg0_dense1_fwd</title>\n",
       "<path fill=\"none\" stroke=\"#000000\" d=\"M69.1712,-3259.4838C69.1712,-3246.2054 69.1712,-3231.6405 69.1712,-3219.2906\"/>\n",
       "<polygon fill=\"#000000\" stroke=\"#000000\" points=\"69.1712,-3269.79 64.6713,-3259.79 69.1712,-3264.79 69.1713,-3259.79 69.1713,-3259.79 69.1713,-3259.79 69.1712,-3264.79 73.6713,-3259.79 69.1712,-3269.79 69.1712,-3269.79\"/>\n",
       "<text text-anchor=\"middle\" x=\"83.1712\" y=\"-3240.8\" font-family=\"Times,serif\" font-size=\"14.00\" fill=\"#000000\">4096</text>\n",
       "</g>\n",
       "<!-- vgg0_dropout1_fwd -->\n",
       "<g id=\"node32\" class=\"node\">\n",
       "<title>vgg0_dropout1_fwd</title>\n",
       "<ellipse fill=\"#fccde5\" stroke=\"#000000\" cx=\"69.1712\" cy=\"-3408\" rx=\"69.3428\" ry=\"29\"/>\n",
       "<text text-anchor=\"middle\" x=\"69.1712\" y=\"-3404.3\" font-family=\"Times,serif\" font-size=\"14.00\" fill=\"#000000\">vgg0_dropout1_fwd</text>\n",
       "</g>\n",
       "<!-- vgg0_dropout1_fwd&#45;&gt;vgg0_dense1_relu_fwd -->\n",
       "<g id=\"edge31\" class=\"edge\">\n",
       "<title>vgg0_dropout1_fwd&#45;&gt;vgg0_dense1_relu_fwd</title>\n",
       "<path fill=\"none\" stroke=\"#000000\" d=\"M69.1712,-3368.4838C69.1712,-3355.2054 69.1712,-3340.6405 69.1712,-3328.2906\"/>\n",
       "<polygon fill=\"#000000\" stroke=\"#000000\" points=\"69.1712,-3378.79 64.6713,-3368.79 69.1712,-3373.79 69.1713,-3368.79 69.1713,-3368.79 69.1713,-3368.79 69.1712,-3373.79 73.6713,-3368.79 69.1712,-3378.79 69.1712,-3378.79\"/>\n",
       "<text text-anchor=\"middle\" x=\"83.1712\" y=\"-3349.8\" font-family=\"Times,serif\" font-size=\"14.00\" fill=\"#000000\">4096</text>\n",
       "</g>\n",
       "<!-- vgg0_dense3_fwd -->\n",
       "<g id=\"node33\" class=\"node\">\n",
       "<title>vgg0_dense3_fwd</title>\n",
       "<ellipse fill=\"#fb8072\" stroke=\"#000000\" cx=\"69.1712\" cy=\"-3517\" rx=\"68.3377\" ry=\"29\"/>\n",
       "<text text-anchor=\"middle\" x=\"69.1712\" y=\"-3520.8\" font-family=\"Times,serif\" font-size=\"14.00\" fill=\"#000000\">FullyConnected</text>\n",
       "<text text-anchor=\"middle\" x=\"69.1712\" y=\"-3505.8\" font-family=\"Times,serif\" font-size=\"14.00\" fill=\"#000000\">8</text>\n",
       "</g>\n",
       "<!-- vgg0_dense3_fwd&#45;&gt;vgg0_dropout1_fwd -->\n",
       "<g id=\"edge32\" class=\"edge\">\n",
       "<title>vgg0_dense3_fwd&#45;&gt;vgg0_dropout1_fwd</title>\n",
       "<path fill=\"none\" stroke=\"#000000\" d=\"M69.1712,-3477.4838C69.1712,-3464.2054 69.1712,-3449.6405 69.1712,-3437.2906\"/>\n",
       "<polygon fill=\"#000000\" stroke=\"#000000\" points=\"69.1712,-3487.79 64.6713,-3477.79 69.1712,-3482.79 69.1713,-3477.79 69.1713,-3477.79 69.1713,-3477.79 69.1712,-3482.79 73.6713,-3477.79 69.1712,-3487.79 69.1712,-3487.79\"/>\n",
       "<text text-anchor=\"middle\" x=\"83.1712\" y=\"-3458.8\" font-family=\"Times,serif\" font-size=\"14.00\" fill=\"#000000\">4096</text>\n",
       "</g>\n",
       "</g>\n",
       "</svg>\n"
      ],
      "text/plain": [
       "<graphviz.dot.Digraph at 0x7f45769cd6a0>"
      ]
     },
     "execution_count": 18,
     "metadata": {},
     "output_type": "execute_result"
    }
   ],
   "source": [
    "x = mx.sym.var('data')\n",
    "sym = net(x)\n",
    "mx.viz.plot_network(sym, \\\n",
    "                    node_attrs={\"shape\":\"oval\",\"fixedsize\":\"false\"}, \\\n",
    "                    shape={\"data\": data_shape})"
   ]
  },
  {
   "cell_type": "markdown",
   "metadata": {
    "slideshow": {
     "slide_type": "slide"
    }
   },
   "source": [
    "## HyperParameters"
   ]
  },
  {
   "cell_type": "code",
   "execution_count": 19,
   "metadata": {
    "slideshow": {
     "slide_type": "fragment"
    }
   },
   "outputs": [],
   "source": [
    "epochs = 10\n",
    "lr = 0.01\n",
    "momentum = 0.9"
   ]
  },
  {
   "cell_type": "markdown",
   "metadata": {
    "slideshow": {
     "slide_type": "fragment"
    }
   },
   "source": [
    "## Create a Trainer"
   ]
  },
  {
   "cell_type": "code",
   "execution_count": 20,
   "metadata": {
    "slideshow": {
     "slide_type": "fragment"
    }
   },
   "outputs": [],
   "source": [
    "trainer = gluon.Trainer(net.collect_params(), 'sgd',\n",
    "           {'learning_rate': lr, 'momentum': momentum})"
   ]
  },
  {
   "cell_type": "code",
   "execution_count": 21,
   "metadata": {
    "slideshow": {
     "slide_type": "fragment"
    }
   },
   "outputs": [],
   "source": [
    "metric = mx.metric.Accuracy()\n",
    "L = gluon.loss.SoftmaxCrossEntropyLoss()"
   ]
  },
  {
   "cell_type": "markdown",
   "metadata": {
    "slideshow": {
     "slide_type": "slide"
    }
   },
   "source": [
    "## Validation Loop"
   ]
  },
  {
   "cell_type": "code",
   "execution_count": 22,
   "metadata": {
    "slideshow": {
     "slide_type": "fragment"
    }
   },
   "outputs": [],
   "source": [
    "def test(net, val_data, ctx):\n",
    "    metric = mx.metric.Accuracy()\n",
    "    for i, batch in enumerate(val_data):\n",
    "        data = gluon.utils.split_and_load(batch[0], ctx_list=ctx, batch_axis=0, even_split=False)\n",
    "        label = gluon.utils.split_and_load(batch[1], ctx_list=ctx, batch_axis=0, even_split=False)\n",
    "        outputs = [net(X) for X in data]\n",
    "        metric.update(label, outputs)\n",
    "\n",
    "    return metric.get()"
   ]
  },
  {
   "cell_type": "markdown",
   "metadata": {
    "slideshow": {
     "slide_type": "slide"
    }
   },
   "source": [
    "## Training Loop"
   ]
  },
  {
   "cell_type": "code",
   "execution_count": 23,
   "metadata": {
    "scrolled": false,
    "slideshow": {
     "slide_type": "fragment"
    }
   },
   "outputs": [
    {
     "name": "stdout",
     "output_type": "stream",
     "text": [
      "[Epoch 0] Train-acc: 0.603, loss: 1.127 | Val-acc: 0.717 | time: 93.8\n",
      "[Epoch 1] Train-acc: 0.733, loss: 0.783 | Val-acc: 0.740 | time: 44.9\n",
      "[Epoch 2] Train-acc: 0.774, loss: 0.658 | Val-acc: 0.770 | time: 45.1\n",
      "[Epoch 3] Train-acc: 0.823, loss: 0.516 | Val-acc: 0.798 | time: 45.3\n",
      "[Epoch 4] Train-acc: 0.859, loss: 0.411 | Val-acc: 0.808 | time: 45.2\n",
      "[Epoch 5] Train-acc: 0.882, loss: 0.342 | Val-acc: 0.794 | time: 45.2\n",
      "[Epoch 6] Train-acc: 0.923, loss: 0.230 | Val-acc: 0.792 | time: 45.0\n",
      "[Epoch 7] Train-acc: 0.937, loss: 0.183 | Val-acc: 0.806 | time: 44.8\n",
      "[Epoch 8] Train-acc: 0.956, loss: 0.124 | Val-acc: 0.805 | time: 44.8\n",
      "[Epoch 9] Train-acc: 0.959, loss: 0.115 | Val-acc: 0.786 | time: 45.1\n"
     ]
    }
   ],
   "source": [
    "num_batch = len(train_data)\n",
    "\n",
    "train_losses = []\n",
    "train_accuracies = []\n",
    "val_accuracies = []\n",
    "\n",
    "for epoch in range(epochs):\n",
    "\n",
    "    tic = time.time()\n",
    "    train_loss = 0\n",
    "    metric.reset()\n",
    "\n",
    "    for i, batch in enumerate(train_data):\n",
    "        # use gluon.utils.split_load to load a slice of the mini-batch to each context\n",
    "        data = gluon.utils.split_and_load(batch[0], ctx_list=ctx, batch_axis=0, even_split=False)\n",
    "        label = gluon.utils.split_and_load(batch[1], ctx_list=ctx, batch_axis=0, even_split=False)\n",
    "        with ag.record():\n",
    "            # pass each slice of dadata to the network's forward pass and collect output            \n",
    "            outputs = [net(X) for X in data]\n",
    "            loss = [L(yhat, y) for yhat, y in zip(outputs, label)]\n",
    "        # for each loss, compute gradients            \n",
    "        for l in loss:\n",
    "            l.backward()\n",
    "        trainer.step(batch_size)\n",
    "        train_loss += sum([l.mean().asscalar() for l in loss]) / len(loss)\n",
    "\n",
    "        metric.update(label, outputs)\n",
    "\n",
    "    _, train_acc = metric.get()\n",
    "    train_loss /= num_batch\n",
    "    \n",
    "    _, val_acc = test(net, val_data, ctx)\n",
    "\n",
    "    train_losses.append(train_loss)\n",
    "    train_accuracies.append(train_acc)\n",
    "    val_accuracies.append(val_acc)\n",
    "\n",
    "    print('[Epoch %d] Train-acc: %.3f, loss: %.3f | Val-acc: %.3f | time: %.1f' %\n",
    "             (epoch, train_acc, train_loss, val_acc, time.time() - tic))"
   ]
  },
  {
   "cell_type": "markdown",
   "metadata": {
    "slideshow": {
     "slide_type": "slide"
    }
   },
   "source": [
    "## Training and Validataion Loss/Accuracy "
   ]
  },
  {
   "cell_type": "code",
   "execution_count": 24,
   "metadata": {
    "slideshow": {
     "slide_type": "fragment"
    }
   },
   "outputs": [
    {
     "data": {
      "text/plain": [
       "<matplotlib.legend.Legend at 0x7f45768e8128>"
      ]
     },
     "execution_count": 24,
     "metadata": {},
     "output_type": "execute_result"
    },
    {
     "data": {
      "image/png": "[encoded data removed]",
      "text/plain": [
       "<Figure size 864x432 with 2 Axes>"
      ]
     },
     "metadata": {},
     "output_type": "display_data"
    }
   ],
   "source": [
    "%matplotlib inline\n",
    "import matplotlib\n",
    "import matplotlib.pyplot as plt\n",
    "\n",
    "f = plt.figure(figsize=(12,6))\n",
    "fg1 = f.add_subplot(121)\n",
    "fg2 = f.add_subplot(122)\n",
    "\n",
    "fg1.set_xlabel('epoch',fontsize=14)  \n",
    "fg1.set_title('Loss over Training')\n",
    "fg1.grid(True, which=\"both\")\n",
    "fg1.plot(range(epochs), train_losses)\n",
    "\n",
    "fg2.set_title('Comparing accuracy')\n",
    "fg2.set_xlabel('epoch', fontsize=14)\n",
    "fg2.grid(True, which=\"both\")\n",
    "\n",
    "p1, = fg2.plot(range(epochs), train_accuracies)\n",
    "p2, = fg2.plot(range(epochs), val_accuracies)\n",
    "fg2.legend([p1, p2], ['training accuracy', 'validation accuracy'],fontsize=14)"
   ]
  },
  {
   "cell_type": "markdown",
   "metadata": {
    "slideshow": {
     "slide_type": "slide"
    }
   },
   "source": [
    "## Test Accuracy"
   ]
  },
  {
   "cell_type": "code",
   "execution_count": 25,
   "metadata": {
    "slideshow": {
     "slide_type": "fragment"
    }
   },
   "outputs": [
    {
     "name": "stdout",
     "output_type": "stream",
     "text": [
      "[Finished] Test-acc: 0.783\n"
     ]
    }
   ],
   "source": [
    "_, test_acc = test(net, test_data, ctx)\n",
    "print('[Finished] Test-acc: %.3f' % (test_acc))"
   ]
  },
  {
   "cell_type": "code",
   "execution_count": 26,
   "metadata": {
    "slideshow": {
     "slide_type": "skip"
    }
   },
   "outputs": [],
   "source": [
    "\n",
    "from PIL import Image\n",
    "import numpy as np\n",
    "\n",
    "def readImage(file_name):\n",
    "    \"\"\"\n",
    "    Decodes an Image bytearray into 3-D numpy array.\n",
    "    \"\"\"\n",
    "    from PIL import Image\n",
    "    import numpy as np\n",
    "    import io\n",
    "    from array import array\n",
    "    # read the bytearray using OpenCV and convert to RGB\n",
    "    img = Image.open(file_name)\n",
    "    img = img.convert('RGB')\n",
    "    #resize the image to 224x224\n",
    "    img = img.resize((224, 224), Image.ANTIALIAS)\n",
    "    # reshape the array from (height, width, channel) to (channel, height, width)\n",
    "    img = np.swapaxes(img, 0, 2)\n",
    "    img = np.swapaxes(img, 1, 2)\n",
    "    # add a new axis to hold a batch of images.\n",
    "    img = img[np.newaxis, :]\n",
    "    return img\n"
   ]
  },
  {
   "cell_type": "code",
   "execution_count": 27,
   "metadata": {
    "slideshow": {
     "slide_type": "skip"
    }
   },
   "outputs": [],
   "source": [
    "from matplotlib.pyplot import imshow\n",
    "def showImage(file_name):\n",
    "    img = Image.open(file_name)\n",
    "    imshow(np.asarray(img))"
   ]
  },
  {
   "cell_type": "markdown",
   "metadata": {
    "slideshow": {
     "slide_type": "slide"
    }
   },
   "source": [
    "### Run Prediction on './data/test.jpg' using the trained model above,  "
   ]
  },
  {
   "cell_type": "code",
   "execution_count": 28,
   "metadata": {},
   "outputs": [
    {
     "data": {
      "image/png": "[encoded data removed]",
      "text/plain": [
       "<Figure size 432x288 with 1 Axes>"
      ]
     },
     "metadata": {},
     "output_type": "display_data"
    }
   ],
   "source": [
    "showImage('./data/test.jpg')"
   ]
  },
  {
   "cell_type": "code",
   "execution_count": 29,
   "metadata": {
    "slideshow": {
     "slide_type": "fragment"
    }
   },
   "outputs": [],
   "source": [
    "# Use the readImage routine above\n",
    "test_img = readImage('./data/test.jpg')"
   ]
  },
  {
   "cell_type": "code",
   "execution_count": 30,
   "metadata": {
    "slideshow": {
     "slide_type": "fragment"
    }
   },
   "outputs": [
    {
     "data": {
      "text/plain": [
       "(1, 3, 224, 224)"
      ]
     },
     "execution_count": 30,
     "metadata": {},
     "output_type": "execute_result"
    }
   ],
   "source": [
    "# verify Input Image shape\n",
    "test_img.shape"
   ]
  },
  {
   "cell_type": "code",
   "execution_count": 31,
   "metadata": {
    "slideshow": {
     "slide_type": "fragment"
    }
   },
   "outputs": [
    {
     "name": "stdout",
     "output_type": "stream",
     "text": [
      "probability = 207.725571, class = happiness\n",
      "\n",
      "probability = 110.890465, class = neutral\n",
      "\n",
      "probability = 47.247025, class = anger\n",
      "\n",
      "probability = 8.289546, class = surprise\n",
      "\n",
      "probability = -13.182712, class = contempt\n",
      "\n",
      "probability = -60.989773, class = sadness\n",
      "\n",
      "probability = -111.577095, class = disgust\n",
      "\n",
      "probability = -200.844727, class = fear\n",
      "\n"
     ]
    }
   ],
   "source": [
    "# get the input image to one of the contexts\n",
    "test_nd = nd.array(test_img, ctx[0])\n",
    "\n",
    "# Predict by running forward pass on the network,\n",
    "# simply pass the input data net\n",
    "test_out = net(test_nd)\n",
    "\n",
    "# remove single-dimension axis and copy from GPU(if exists) to numpy array\n",
    "test_out = test_out.squeeze().asnumpy()\n",
    "\n",
    "# label corresponding to output\n",
    "a = np.argsort(test_out)[::-1]\n",
    "\n",
    "for i in a:\n",
    "    print('probability = {:f}, class = {}\\n'.format(test_out[i], emotions[i]))"
   ]
  }
 ],
 "metadata": {
  "celltoolbar": "Slideshow",
  "kernelspec": {
   "display_name": "conda_mxnet_p36",
   "language": "python",
   "name": "conda_mxnet_p36"
  },
  "language_info": {
   "codemirror_mode": {
    "name": "ipython",
    "version": 3
   },
   "file_extension": ".py",
   "mimetype": "text/x-python",
   "name": "python",
   "nbconvert_exporter": "python",
   "pygments_lexer": "ipython3",
   "version": "3.6.5"
  }
 },
 "nbformat": 4,
 "nbformat_minor": 2
}
